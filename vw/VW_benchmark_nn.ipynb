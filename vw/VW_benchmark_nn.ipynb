{
 "cells": [
  {
   "cell_type": "markdown",
   "metadata": {},
   "source": [
    "#MNIST classification with Vowpal Wabbit   \n",
    "##Neural Net"
   ]
  },
  {
   "cell_type": "code",
   "execution_count": 33,
   "metadata": {
    "collapsed": true
   },
   "outputs": [],
   "source": [
    "from __future__ import division\n",
    "import re\n",
    "import numpy as np\n",
    "from sklearn.metrics import confusion_matrix\n",
    "import matplotlib.pyplot as plt\n",
    "\n",
    "%matplotlib inline"
   ]
  },
  {
   "cell_type": "code",
   "execution_count": 34,
   "metadata": {
    "collapsed": true
   },
   "outputs": [],
   "source": [
    "#%qtconsole"
   ]
  },
  {
   "cell_type": "markdown",
   "metadata": {},
   "source": [
    "##Train"
   ]
  },
  {
   "cell_type": "markdown",
   "metadata": {},
   "source": [
    "I found some help with parameters here: \n",
    "* https://github.com/JohnLangford/vowpal_wabbit/wiki/Tutorial    \n",
    "* https://github.com/JohnLangford/vowpal_wabbit/wiki/Command-line-arguments\n",
    "\n",
    "--cache_file train.cache    \n",
    "converts train_ALL.vw to a binary file for future faster processing. \n",
    "Next time we go through the model building, we will use the cache file \n",
    "and not the text file.    \n",
    "\n",
    "--passes     \n",
    "is the number of passes    \n",
    "\n",
    "--oaa 10    \n",
    "refers to oaa learning algorithm with 10 classes (1 to 10)    \n",
    "\n",
    "-q ii    \n",
    "creates interaction between variables in the two referred to namespaces \n",
    "which here are the same i.e. 'image' Namespace.   \n",
    "An interaction variable is created from two variables 'A' and 'B' \n",
    "by multiplying the values of 'A' and 'B'.    \n",
    "\n",
    "-f mnist_ALL.model    \n",
    "refers to file where model will be saved.    \n",
    "\n",
    "-b     \n",
    "refers to number of bits in the feature table.   \n",
    "Default number is 18 but as we have increased the number of features much more \n",
    "by introducing interaction features, value of '-b' has been increased to 22.   \n",
    "\n",
    "-l rate   \n",
    "Adjust the learning rate. Defaults to 0.5\n",
    "\n",
    "--power_t p   \n",
    "This specifies the power on the learning rate decay. You can adjust this --power_t p where p is in the range [0,1]. 0 means the learning rate does not decay, which can be helpful when state tracking, while 1 is very aggressive. Defaults to 0.5"
   ]
  },
  {
   "cell_type": "code",
   "execution_count": 35,
   "metadata": {
    "collapsed": false
   },
   "outputs": [],
   "source": [
    "!rm train.vw.cache"
   ]
  },
  {
   "cell_type": "code",
   "execution_count": 36,
   "metadata": {
    "collapsed": false
   },
   "outputs": [],
   "source": [
    "!rm mnist_train_nn.model"
   ]
  },
  {
   "cell_type": "code",
   "execution_count": 37,
   "metadata": {
    "collapsed": false
   },
   "outputs": [
    {
     "name": "stdout",
     "output_type": "stream",
     "text": [
      "final_regressor = mnist_train_nn.model\n",
      "Num weight bits = 19\n",
      "learning rate = 0.4\n",
      "initial_t = 0\n",
      "power_t = 0.6\n",
      "decay_learning_rate = 1\n",
      "can't open: train.vw.cache, error = No such file or directory\n",
      "creating cache_file = train.vw.cache\n",
      "Reading datafile = data/mnist_train.vw\n",
      "num sources = 1\n",
      "average  since         example        example  current  current  current\n",
      "loss     last          counter         weight    label  predict features\n",
      "1.000000 1.000000            1            1.0        6        1      167\n",
      "1.000000 1.000000            2            2.0        1        6      177\n",
      "1.000000 1.000000            4            4.0        2        5       97\n",
      "1.000000 1.000000            8            8.0        4        2      201\n",
      "1.000000 1.000000           16           16.0        3        4      151\n",
      "0.906250 0.812500           32           32.0        1       10      184\n",
      "0.859375 0.812500           64           64.0        2        1      123\n",
      "0.656250 0.453125          128          128.0        8        8      131\n",
      "0.554688 0.453125          256          256.0        1        1      235\n",
      "0.453125 0.351562          512          512.0        8        8      116\n",
      "0.347656 0.242188         1024         1024.0        7        6      172\n",
      "0.260742 0.173828         2048         2048.0       10       10      136\n",
      "0.199707 0.138672         4096         4096.0        3        3      136\n",
      "0.168701 0.137695         8192         8192.0        1        1      169\n",
      "0.143066 0.117432        16384        16384.0        5        5      145\n",
      "0.116394 0.089722        32768        32768.0        6        6      150\n",
      "0.091492 0.066589        65536        65536.0        6        6      177\n",
      "0.049234 0.049234       131072       131072.0       10       10      153 h\n",
      "0.038452 0.027671       262144       262144.0        5        5      112 h\n",
      "0.029217 0.019981       524288       524288.0        7        7      225 h\n",
      "0.023106 0.016995      1048576      1048576.0       10       10      150 h\n",
      "0.018411 0.013716      2097152      2097152.0        3        3      146 h\n",
      "\n",
      "finished run\n",
      "number of examples per pass = 108000\n",
      "passes used = 23\n",
      "weighted example sum = 2484000.000000\n",
      "weighted label sum = 0.000000\n",
      "average loss = 0.012083 h\n",
      "total feature number = 401616984\n"
     ]
    }
   ],
   "source": [
    "\n",
    "!vw -d data/mnist_train.vw --cache_file train.vw.cache -f mnist_train_nn.model --nn 200 -b 19  --oaa 10  --passes 55 -l 0.4  --early_terminate 3 --power_t 0.6"
   ]
  },
  {
   "cell_type": "markdown",
   "metadata": {},
   "source": [
    "##Predict "
   ]
  },
  {
   "cell_type": "markdown",
   "metadata": {},
   "source": [
    "-t    \n",
    "is for test file   \n",
    "\n",
    "-i    \n",
    "specifies the model file created earlier   \n",
    "\n",
    "-p   \n",
    "where to store the class predictions [1,10]   "
   ]
  },
  {
   "cell_type": "code",
   "execution_count": 38,
   "metadata": {
    "collapsed": false
   },
   "outputs": [],
   "source": [
    "!rm predict.txt"
   ]
  },
  {
   "cell_type": "code",
   "execution_count": 39,
   "metadata": {
    "collapsed": false
   },
   "outputs": [
    {
     "name": "stdout",
     "output_type": "stream",
     "text": [
      "only testing\n",
      "predictions = predict.txt\n",
      "Num weight bits = 19\n",
      "learning rate = 10\n",
      "initial_t = 1\n",
      "power_t = 0.5\n",
      "using no cache\n",
      "Reading datafile = data/mnist_test.vw\n",
      "num sources = 1\n",
      "average  since         example        example  current  current  current\n",
      "loss     last          counter         weight    label  predict features\n",
      "0.000000 0.000000            1            1.0        8        8      117\n",
      "0.000000 0.000000            2            2.0        3        3      166\n",
      "0.000000 0.000000            4            4.0        1        1      194\n",
      "0.000000 0.000000            8            8.0       10       10      130\n",
      "0.000000 0.000000           16           16.0        6        6      138\n",
      "0.000000 0.000000           32           32.0        2        2       62\n",
      "0.000000 0.000000           64           64.0        4        4      138\n",
      "0.000000 0.000000          128          128.0        6        6      160\n",
      "0.011719 0.023438          256          256.0        8        8      104\n",
      "0.013672 0.015625          512          512.0        5        5      100\n",
      "0.018555 0.023438         1024         1024.0        5        5      156\n",
      "0.027832 0.037109         2048         2048.0        7        7      193\n",
      "0.031738 0.035645         4096         4096.0       10       10      157\n",
      "0.022461 0.013184         8192         8192.0        7        7      172\n",
      "0.019897 0.017334        16384        16384.0        1        1      207\n",
      "\n",
      "finished run\n",
      "number of examples per pass = 20000\n",
      "passes used = 1\n",
      "weighted example sum = 20000.000000\n",
      "weighted label sum = 0.000000\n",
      "average loss = 0.017650\n",
      "total feature number = 3273154\n"
     ]
    }
   ],
   "source": [
    "!vw -t data/mnist_test.vw -i mnist_train_nn.model  -p predict.txt"
   ]
  },
  {
   "cell_type": "markdown",
   "metadata": {},
   "source": [
    "##Analyze"
   ]
  },
  {
   "cell_type": "code",
   "execution_count": 40,
   "metadata": {
    "collapsed": false
   },
   "outputs": [],
   "source": [
    "y_true=[]\n",
    "with open(\"data/mnist_test.vw\", 'rb') as f:\n",
    "    for line in f:\n",
    "        m = re.search('^\\d+', line)\n",
    "        if m:\n",
    "            found = m.group()\n",
    "        y_true.append(int(found))\n",
    "\n",
    "\n",
    "y_pred = []\n",
    "with open(\"predict.txt\", 'rb') as f:\n",
    "    for line in f:\n",
    "        m = re.search('^\\d+', line)\n",
    "        if m:\n",
    "            found = m.group()\n",
    "        y_pred.append(int(found))\n",
    "\n",
    "target_names     = [\"1\", \"2\", \"3\", \"4\", \"5\", \"6\", \"7\", \"8\", \"9\", \"10\"] # NOTE: plus one"
   ]
  },
  {
   "cell_type": "code",
   "execution_count": 41,
   "metadata": {
    "collapsed": false
   },
   "outputs": [
    {
     "name": "stdout",
     "output_type": "stream",
     "text": [
      "[[1948    1    1    0    0    2    4    3    1    0]\n",
      " [   0 2253    4    2    0    3    3    2    3    0]\n",
      " [   8    2 2030    5    3    0    1    6    9    0]\n",
      " [   4    0    7 1983    1    9    0    7    3    6]\n",
      " [   1    0    4    4 1932    0    6    1    4   12]\n",
      " [   9    0    0    9    1 1759    5    0    1    0]\n",
      " [  11    5    0    1    6   20 1866    0    7    0]\n",
      " [   8    3   21    1    1    1    0 2009    2   10]\n",
      " [   9    1    7    7    6    5    1    4 1907    1]\n",
      " [   8    8    2    4   20    6    1    7    2 1960]]\n",
      "\n",
      "Model accuracy: 0.98235, model misclass rate: 0.01765\n"
     ]
    },
    {
     "data": {
      "image/png": "[encoded data removed]",
      "text/plain": [
       "<matplotlib.figure.Figure at 0x7f10bec8a090>"
      ]
     },
     "metadata": {},
     "output_type": "display_data"
    }
   ],
   "source": [
    "def plot_confusion_matrix(cm, \n",
    "                          target_names,\n",
    "                          title='Proportional Confusion matrix: VW on 784 pixels', \n",
    "                          cmap=plt.cm.Paired):  \n",
    "    \"\"\"\n",
    "    given a confusion matrix (cm), make a nice plot\n",
    "    see the skikit-learn documentation for the original done for the iris dataset\n",
    "    \"\"\"\n",
    "    plt.figure(figsize=(8, 6))\n",
    "    plt.imshow((cm/cm.sum(axis=1)), interpolation='nearest', cmap=cmap)\n",
    "    plt.title(title)\n",
    "    plt.colorbar()\n",
    "    tick_marks = np.arange(len(target_names))\n",
    "    plt.xticks(tick_marks, target_names, rotation=45)\n",
    "    plt.yticks(tick_marks, target_names)\n",
    "    plt.tight_layout()\n",
    "    plt.ylabel('True label')\n",
    "    plt.xlabel('Predicted label')\n",
    "    \n",
    "cm = confusion_matrix(y_true, y_pred)  \n",
    "\n",
    "print(cm)\n",
    "model_accuracy = sum(cm.diagonal())/len(y_pred)\n",
    "model_misclass = 1 - model_accuracy\n",
    "print(\"\\nModel accuracy: {0}, model misclass rate: {1}\".format(model_accuracy, model_misclass))\n",
    "\n",
    "plot_confusion_matrix(cm, target_names)"
   ]
  },
  {
   "cell_type": "code",
   "execution_count": null,
   "metadata": {
    "collapsed": true
   },
   "outputs": [],
   "source": []
  }
 ],
 "metadata": {
  "kernelspec": {
   "display_name": "Python 2",
   "language": "python",
   "name": "python2"
  },
  "language_info": {
   "codemirror_mode": {
    "name": "ipython",
    "version": 2
   },
   "file_extension": ".py",
   "mimetype": "text/x-python",
   "name": "python",
   "nbconvert_exporter": "python",
   "pygments_lexer": "ipython2",
   "version": "2.7.9"
  }
 },
 "nbformat": 4,
 "nbformat_minor": 0
}
