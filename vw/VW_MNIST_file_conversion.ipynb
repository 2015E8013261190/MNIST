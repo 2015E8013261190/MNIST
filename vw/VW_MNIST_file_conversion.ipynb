{
 "cells": [
  {
   "cell_type": "markdown",
   "metadata": {},
   "source": [
    "#MNIST with Vowpal Wabbit    \n",
    "##Convert CSV to VW format   \n",
    "\n",
    "see http://hunch.net/~vw/usage.html"
   ]
  },
  {
   "cell_type": "markdown",
   "metadata": {},
   "source": [
    "##VW Input format   \n",
    "###[Label] [Importance] ['Tag]|Namespace Features |Namespace Features ... |Namespace Features   \n",
    "\n",
    "####Label\n",
    "is the real number that we are trying to predict for this example. If the label is omitted, then no training will be performed with the corresponding example, although VW will still compute a prediction.   \n",
    "\n",
    "####Importance (importance weight)   \n",
    "is a non-negative real number indicating the relative importance of this example over the others. Omitting this gives a default importance of 1 to the example.   \n",
    "\n",
    "####Tag    \n",
    "is a string that serves as an identifier for the example. It is reported back when predictions are made. It doesn't have to be unique. The default value if it is not provided is the empty string. If you provide a tag without a weight you need to disambiguate: either make the tag touch the | (no trailing spaces) or mark it with a leading single-quote '. If you don't provide a tag, you need to have a space before the |.    \n",
    "\n",
    "####Namespace   \n",
    "is an identifier of a source of information for the example optionally followed by a float (e.g., MetricFeatures:3.28), which acts as a global scaling of all the values of the features in this namespace. If value is omitted, the default is 1. It is important that the namespace not have a space between the separator | as otherwise it is interpreted as a feature.   \n",
    "\n",
    "####Features   \n",
    "is a sequence of whitespace separated strings, each of which is optionally followed by a float (e.g., NumberOfLegs:4.0 HasStripes). Each string is a feature and the value is the feature value for that example. Omitting a feature means that its value is zero. Including a feature but omitting its value means that its value is 1."
   ]
  },
  {
   "cell_type": "code",
   "execution_count": 1,
   "metadata": {
    "collapsed": true
   },
   "outputs": [],
   "source": [
    "import sys, csv\n",
    "from itertools import izip"
   ]
  },
  {
   "cell_type": "markdown",
   "metadata": {},
   "source": [
    "#Function to convert to VW format"
   ]
  },
  {
   "cell_type": "code",
   "execution_count": 2,
   "metadata": {
    "collapsed": true
   },
   "outputs": [],
   "source": [
    "def convert_XY_toVW(inputX_file_path, inputY_file_path, output_file_path):\n",
    "    with open(inputX_file_path, 'rb') as inputX_f, \\\n",
    "         open(inputY_file_path, 'rb') as inputY_f, \\\n",
    "         open(output_file_path, 'wb') as output_f:\n",
    "        readerX   = csv.reader(inputX_f)\n",
    "        readerY   = csv.reader(inputY_f)\n",
    "\n",
    "        # for each line of trainY, trainX\n",
    "        for row, (X_line, Y_line) in enumerate(izip(readerX, readerY)):\n",
    "\n",
    "            # write the Y label and the Namespace\n",
    "            # NOTE Y label goes from 1...10\n",
    "            # =============================\n",
    "            output_line = str(int(Y_line[0])+1) + \" |image \"\n",
    "\n",
    "            # for each non-zero comma-separated value in the csv line\n",
    "            for i, item in enumerate(X_line):\n",
    "                if float(item) != 0.0:\n",
    "                    # write pixel_no:value\n",
    "                    output_line += \"pxl\" + str(i) + \":\" + str(item) + \" \"\n",
    "\n",
    "            output_f.write(output_line+\"\\n\")"
   ]
  },
  {
   "cell_type": "markdown",
   "metadata": {},
   "source": [
    "#Convert the training data to VW format"
   ]
  },
  {
   "cell_type": "code",
   "execution_count": 17,
   "metadata": {
    "collapsed": true
   },
   "outputs": [],
   "source": [
    "inputX_file_path = '../data/trainX.csv' \n",
    "inputY_file_path = '../data/trainY.csv' \n",
    "\n",
    "output_file_path = '../vw/data/mnist_train.vw' "
   ]
  },
  {
   "cell_type": "code",
   "execution_count": 18,
   "metadata": {
    "collapsed": false
   },
   "outputs": [],
   "source": [
    "convert_XY_toVW(inputX_file_path, inputY_file_path, output_file_path)"
   ]
  },
  {
   "cell_type": "markdown",
   "metadata": {},
   "source": [
    "#Convert the test data to VW format"
   ]
  },
  {
   "cell_type": "code",
   "execution_count": 20,
   "metadata": {
    "collapsed": true
   },
   "outputs": [],
   "source": [
    "inputX_file_path = '../data/testX.csv' \n",
    "inputY_file_path = '../data/testY.csv' \n",
    "\n",
    "output_file_path = '../vw/data/mnist_test.vw' "
   ]
  },
  {
   "cell_type": "code",
   "execution_count": 21,
   "metadata": {
    "collapsed": true
   },
   "outputs": [],
   "source": [
    "convert_XY_toVW(inputX_file_path, inputY_file_path, output_file_path)"
   ]
  },
  {
   "cell_type": "markdown",
   "metadata": {},
   "source": [
    "##Convert the training PCA data to VW format"
   ]
  },
  {
   "cell_type": "code",
   "execution_count": 3,
   "metadata": {
    "collapsed": true
   },
   "outputs": [],
   "source": [
    "inputX_file_path = '../data/trainX_pca.csv' \n",
    "inputY_file_path = '../data/trainY.csv' \n",
    "\n",
    "output_file_path = '../vw/data/mnist_train_pca.vw'  "
   ]
  },
  {
   "cell_type": "code",
   "execution_count": 4,
   "metadata": {
    "collapsed": true
   },
   "outputs": [],
   "source": [
    "convert_XY_toVW(inputX_file_path, inputY_file_path, output_file_path)"
   ]
  },
  {
   "cell_type": "markdown",
   "metadata": {},
   "source": [
    "##Convert the test PCA data to VW format"
   ]
  },
  {
   "cell_type": "code",
   "execution_count": 5,
   "metadata": {
    "collapsed": true
   },
   "outputs": [],
   "source": [
    "inputX_file_path = '../data/testX_pca.csv' \n",
    "inputY_file_path = '../data/testY.csv' \n",
    "\n",
    "output_file_path = '../vw/data/minst_test_pca.vw'  "
   ]
  },
  {
   "cell_type": "code",
   "execution_count": 6,
   "metadata": {
    "collapsed": true
   },
   "outputs": [],
   "source": [
    "convert_XY_toVW(inputX_file_path, inputY_file_path, output_file_path)"
   ]
  },
  {
   "cell_type": "markdown",
   "metadata": {
    "collapsed": true
   },
   "source": [
    "#Convert the Kaggle training data to VW format"
   ]
  },
  {
   "cell_type": "code",
   "execution_count": 23,
   "metadata": {
    "collapsed": true
   },
   "outputs": [],
   "source": [
    "inputX_file_path = '../kaggle/data/kaggle_trainX.csv' \n",
    "inputY_file_path = '../kaggle/data/kaggle_trainY.csv' \n",
    "\n",
    "output_file_path = '../vw/data/kaggle_train.vw' "
   ]
  },
  {
   "cell_type": "code",
   "execution_count": 24,
   "metadata": {
    "collapsed": true
   },
   "outputs": [],
   "source": [
    "convert_XY_toVW(inputX_file_path, inputY_file_path, output_file_path)"
   ]
  },
  {
   "cell_type": "markdown",
   "metadata": {},
   "source": [
    "#Convert Kaggle PCA training data to VW format"
   ]
  },
  {
   "cell_type": "code",
   "execution_count": 7,
   "metadata": {
    "collapsed": true
   },
   "outputs": [],
   "source": [
    "inputX_file_path = '../kaggle/data/kaggle_trainX_pca.csv' \n",
    "inputY_file_path = '../kaggle/data/kaggle_trainY.csv' \n",
    "\n",
    "output_file_path = '../vw/data/kaggle_train_pca.vw' "
   ]
  },
  {
   "cell_type": "code",
   "execution_count": 8,
   "metadata": {
    "collapsed": true
   },
   "outputs": [],
   "source": [
    "convert_XY_toVW(inputX_file_path, inputY_file_path, output_file_path)"
   ]
  },
  {
   "cell_type": "markdown",
   "metadata": {},
   "source": [
    "#Convert the Kaggle test data (X only) to VW format"
   ]
  },
  {
   "cell_type": "code",
   "execution_count": 26,
   "metadata": {
    "collapsed": true
   },
   "outputs": [],
   "source": [
    "inputX_file_path = '../kaggle/data/kaggle_testX_deskewed.csv'\n",
    "\n",
    "output_file_path = '../vw/data/kaggle_test.vw' "
   ]
  },
  {
   "cell_type": "code",
   "execution_count": 27,
   "metadata": {
    "collapsed": true
   },
   "outputs": [],
   "source": [
    "with open(inputX_file_path, 'rb') as inputX_f, \\\n",
    "     open(output_file_path, 'wb') as output_f:\n",
    "    readerX   = csv.reader(inputX_f)\n",
    "\n",
    "    # for each line of testX\n",
    "    for row, X_line in enumerate(readerX):\n",
    "\n",
    "        # write the Y label and the Namespace\n",
    "        # NOTE Y label for an unlabeled test set is 1\n",
    "        # ===========================================\n",
    "        output_line = str(1) + \" |image \"\n",
    "\n",
    "        # for each non-zero comma-separated value in the csv line\n",
    "        for i, item in enumerate(X_line):\n",
    "            if float(item) != 0.0:\n",
    "                # write pixel_number:value\n",
    "                output_line += \"pxl\" + str(i) + \":\" + str(item) + \" \"\n",
    "\n",
    "        output_f.write(output_line+\"\\n\")"
   ]
  },
  {
   "cell_type": "markdown",
   "metadata": {
    "collapsed": true
   },
   "source": [
    "#Convert the Kaggle PCA test data (X only) to VW format"
   ]
  },
  {
   "cell_type": "code",
   "execution_count": 9,
   "metadata": {
    "collapsed": true
   },
   "outputs": [],
   "source": [
    "inputX_file_path = '../kaggle/data/kaggle_testX_pca.csv'\n",
    "\n",
    "output_file_path = '../vw/data/kaggle_test_pca.vw' "
   ]
  },
  {
   "cell_type": "code",
   "execution_count": 10,
   "metadata": {
    "collapsed": true
   },
   "outputs": [],
   "source": [
    "with open(inputX_file_path, 'rb') as inputX_f, \\\n",
    "     open(output_file_path, 'wb') as output_f:\n",
    "    readerX   = csv.reader(inputX_f)\n",
    "\n",
    "    # for each line of testX\n",
    "    for row, X_line in enumerate(readerX):\n",
    "\n",
    "        # write the Y label and the Namespace\n",
    "        # NOTE Y label for an unlabeled test set is 1\n",
    "        # ===========================================\n",
    "        output_line = str(1) + \" |image \"\n",
    "\n",
    "        # for each non-zero comma-separated value in the csv line\n",
    "        for i, item in enumerate(X_line):\n",
    "            if float(item) != 0.0:\n",
    "                # write pixel_number:value\n",
    "                output_line += \"pxl\" + str(i) + \":\" + str(item) + \" \"\n",
    "\n",
    "        output_f.write(output_line+\"\\n\")"
   ]
  },
  {
   "cell_type": "code",
   "execution_count": null,
   "metadata": {
    "collapsed": true
   },
   "outputs": [],
   "source": []
  }
 ],
 "metadata": {
  "kernelspec": {
   "display_name": "Python 2",
   "language": "python",
   "name": "python2"
  },
  "language_info": {
   "codemirror_mode": {
    "name": "ipython",
    "version": 2
   },
   "file_extension": ".py",
   "mimetype": "text/x-python",
   "name": "python",
   "nbconvert_exporter": "python",
   "pygments_lexer": "ipython2",
   "version": "2.7.9"
  }
 },
 "nbformat": 4,
 "nbformat_minor": 0
}
