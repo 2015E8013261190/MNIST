{
 "cells": [
  {
   "cell_type": "markdown",
   "metadata": {},
   "source": [
    "#Vowpal Wabbit parameter estimation    \n",
    "##MNIST 784-pixel data"
   ]
  },
  {
   "cell_type": "markdown",
   "metadata": {},
   "source": [
    "https://github.com/JohnLangford/vowpal_wabbit/wiki/Command-line-arguments\n",
    "    \n"
   ]
  },
  {
   "cell_type": "code",
   "execution_count": 10,
   "metadata": {
    "collapsed": true
   },
   "outputs": [],
   "source": [
    "import re\n",
    "import csv\n",
    "import subprocess\n",
    "from time import ctime\n",
    "\n",
    "import pandas as pd\n",
    "import numpy as np\n",
    "import scipy\n",
    "from matplotlib import pyplot as plt\n",
    "%matplotlib inline"
   ]
  },
  {
   "cell_type": "code",
   "execution_count": 11,
   "metadata": {
    "collapsed": true
   },
   "outputs": [],
   "source": [
    "#%qtconsole"
   ]
  },
  {
   "cell_type": "code",
   "execution_count": 12,
   "metadata": {
    "collapsed": false
   },
   "outputs": [],
   "source": [
    "!rm cv_train.vw.cache"
   ]
  },
  {
   "cell_type": "code",
   "execution_count": 13,
   "metadata": {
    "collapsed": false
   },
   "outputs": [
    {
     "name": "stdout",
     "output_type": "stream",
     "text": [
      "vw -d data/mnist_train.vw -b 19  --oaa 10  -f cv.model  -q ii  --passes 10 -l 0.4  --early_terminate 3  --cache_file cv_train.vw.cache --power_t 0.0 2>&1\n",
      "\n",
      "--power_t value: 0.0, loss: 0.012250\n",
      "Wed Jul 22 22:47:54 2015\n",
      "\n",
      "vw -d data/mnist_train.vw -b 19  --oaa 10  -f cv.model  -q ii  --passes 10 -l 0.4  --early_terminate 3  --cache_file cv_train.vw.cache --power_t 0.1 2>&1\n",
      "\n",
      "--power_t value: 0.1, loss: 0.011917\n",
      "Wed Jul 22 22:57:57 2015\n",
      "\n",
      "vw -d data/mnist_train.vw -b 19  --oaa 10  -f cv.model  -q ii  --passes 10 -l 0.4  --early_terminate 3  --cache_file cv_train.vw.cache --power_t 0.2 2>&1\n",
      "\n",
      "--power_t value: 0.2, loss: 0.011667\n",
      "Wed Jul 22 23:07:57 2015\n",
      "\n",
      "vw -d data/mnist_train.vw -b 19  --oaa 10  -f cv.model  -q ii  --passes 10 -l 0.4  --early_terminate 3  --cache_file cv_train.vw.cache --power_t 0.3 2>&1\n",
      "\n",
      "--power_t value: 0.3, loss: 0.011417\n",
      "Wed Jul 22 23:17:53 2015\n",
      "\n",
      "vw -d data/mnist_train.vw -b 19  --oaa 10  -f cv.model  -q ii  --passes 10 -l 0.4  --early_terminate 3  --cache_file cv_train.vw.cache --power_t 0.4 2>&1\n",
      "\n",
      "--power_t value: 0.4, loss: 0.011250\n",
      "Wed Jul 22 23:27:44 2015\n",
      "\n",
      "vw -d data/mnist_train.vw -b 19  --oaa 10  -f cv.model  -q ii  --passes 10 -l 0.4  --early_terminate 3  --cache_file cv_train.vw.cache --power_t 0.5 2>&1\n",
      "\n",
      "--power_t value: 0.5, loss: 0.011250\n",
      "Wed Jul 22 23:32:43 2015\n",
      "\n",
      "vw -d data/mnist_train.vw -b 19  --oaa 10  -f cv.model  -q ii  --passes 10 -l 0.4  --early_terminate 3  --cache_file cv_train.vw.cache --power_t 0.6 2>&1\n",
      "\n",
      "--power_t value: 0.6, loss: 0.011167\n",
      "Wed Jul 22 23:42:21 2015\n",
      "\n",
      "vw -d data/mnist_train.vw -b 19  --oaa 10  -f cv.model  -q ii  --passes 10 -l 0.4  --early_terminate 3  --cache_file cv_train.vw.cache --power_t 0.7 2>&1\n",
      "\n",
      "--power_t value: 0.7, loss: 0.011417\n",
      "Wed Jul 22 23:52:01 2015\n",
      "\n",
      "vw -d data/mnist_train.vw -b 19  --oaa 10  -f cv.model  -q ii  --passes 10 -l 0.4  --early_terminate 3  --cache_file cv_train.vw.cache --power_t 0.8 2>&1\n",
      "\n",
      "--power_t value: 0.8, loss: 0.012583\n",
      "Thu Jul 23 00:01:24 2015\n",
      "\n",
      "vw -d data/mnist_train.vw -b 19  --oaa 10  -f cv.model  -q ii  --passes 10 -l 0.4  --early_terminate 3  --cache_file cv_train.vw.cache --power_t 0.9 2>&1\n",
      "\n",
      "--power_t value: 0.9, loss: 0.025667\n",
      "Thu Jul 23 00:10:05 2015\n",
      "\n",
      "vw -d data/mnist_train.vw -b 19  --oaa 10  -f cv.model  -q ii  --passes 10 -l 0.4  --early_terminate 3  --cache_file cv_train.vw.cache --power_t 1.0 2>&1\n",
      "\n",
      "--power_t value: 1.0, loss: 0.057833\n",
      "Thu Jul 23 00:15:38 2015\n",
      "\n"
     ]
    }
   ],
   "source": [
    "vw_input_file = 'data/mnist_train.vw'\n",
    "\n",
    "path_to_cache = 'cv_train.vw.cache'\n",
    "output_file   = 'vw_cv_parms_tested.csv'\n",
    " \n",
    "vw_params = '-d ' + vw_input_file + ' -b 19  --oaa 10  -f cv.model ' + \\\n",
    "            ' -q ii  --passes 10 -l 0.4 --power_t 0.6 ' + \\\n",
    "            ' --early_terminate 3 '\n",
    "\n",
    "###\n",
    "\n",
    "def get_loss( output ):\n",
    "\tpattern = r\"average\\s+loss\\s+=\\s+([0-9.e]+)+\"\n",
    "\tm = re.search( pattern, output )\n",
    "\tloss = m.group( 1 )\n",
    "\treturn loss\n",
    "\n",
    "###\n",
    "\n",
    "o_f = open( output_file, 'wb' )\n",
    "writer = csv.writer( o_f )\n",
    "writer.writerow( [ 'bits', 'loss' ] )\n",
    "\n",
    "# =============================================\n",
    "# ========= parameter ranges to test ==========\n",
    "\n",
    "#param       = \"--passes\"\n",
    "#param_name  = param + \" over the data\"\n",
    "#param_range = range(5, 35+1, 1)\n",
    "\n",
    "#param       = \"-l\"\n",
    "#param_name  = param + \" learning rate\"\n",
    "#param_range = np.arange(0.1, 1.1, .1)\n",
    "\n",
    "param       = \"--power_t\"\n",
    "param_name  = param\n",
    "param_range = np.arange(0, 1.1, .1)\n",
    "\n",
    "#param       = \"-b\"\n",
    "#param_name  = param + \" hash table entry bit size\"\n",
    "#param_range = range(12, 30+1, 1)\n",
    "\n",
    "# ========= parameter ranges to test ==========\n",
    "# =============================================\n",
    "\n",
    "for b in param_range:\n",
    "\t\n",
    "\tcmd = 'vw {} --cache_file {} {} {} 2>&1'.format( vw_params, path_to_cache, param, b )\t\n",
    "\tprint cmd\n",
    "\t\n",
    "\toutput = subprocess.check_output( '{} | tee /dev/stderr'.format( cmd ), shell = True )\n",
    "\tloss = get_loss( output )\n",
    "\t\n",
    "\tprint \"\\n{} value: {}, loss: {}\\n{}\\n\".format( param_name, b, loss, ctime() )\n",
    "\t\n",
    "\twriter.writerow( [ b, loss ] )\n",
    "\to_f.flush()\n"
   ]
  },
  {
   "cell_type": "code",
   "execution_count": 14,
   "metadata": {
    "collapsed": false
   },
   "outputs": [
    {
     "data": {
      "image/png": "[encoded data removed]",
      "text/plain": [
       "<matplotlib.figure.Figure at 0x7f7b0d274210>"
      ]
     },
     "metadata": {},
     "output_type": "display_data"
    }
   ],
   "source": [
    "input_file = output_file\n",
    "\n",
    "d = pd.read_csv( input_file )\n",
    "\n",
    "plt.figure(figsize=(10,6))\n",
    "plt.title(\"Vowpal Wabbit loss vs {0}\".format(param_name) )\n",
    "plt.xlabel(\"{0}; best={1}\".format(param_name, d.bits[np.argmin(d.loss)]) )\n",
    "\n",
    "plt.plot( d.bits, d.loss )\n",
    "plt.ylabel(\"Average Log Loss (lowest is best)\")\n",
    "plt.axvline(x=d.bits[np.argmin(d.loss)])\n",
    "\n",
    "plt.show()"
   ]
  },
  {
   "cell_type": "code",
   "execution_count": null,
   "metadata": {
    "collapsed": true
   },
   "outputs": [],
   "source": []
  }
 ],
 "metadata": {
  "kernelspec": {
   "display_name": "Python 2",
   "language": "python",
   "name": "python2"
  },
  "language_info": {
   "codemirror_mode": {
    "name": "ipython",
    "version": 2
   },
   "file_extension": ".py",
   "mimetype": "text/x-python",
   "name": "python",
   "nbconvert_exporter": "python",
   "pygments_lexer": "ipython2",
   "version": "2.7.9"
  }
 },
 "nbformat": 4,
 "nbformat_minor": 0
}
