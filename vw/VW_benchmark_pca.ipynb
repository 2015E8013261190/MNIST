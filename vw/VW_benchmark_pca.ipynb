{
 "cells": [
  {
   "cell_type": "markdown",
   "metadata": {},
   "source": [
    "#MNIST classification with Vowpal Wabbit   \n",
    "##PCA data"
   ]
  },
  {
   "cell_type": "code",
   "execution_count": 1,
   "metadata": {
    "collapsed": true
   },
   "outputs": [],
   "source": [
    "from __future__ import division\n",
    "import re\n",
    "import numpy as np\n",
    "from sklearn.metrics import confusion_matrix\n",
    "import matplotlib.pyplot as plt\n",
    "\n",
    "%matplotlib inline"
   ]
  },
  {
   "cell_type": "code",
   "execution_count": 2,
   "metadata": {
    "collapsed": true
   },
   "outputs": [],
   "source": [
    "#%qtconsole"
   ]
  },
  {
   "cell_type": "markdown",
   "metadata": {},
   "source": [
    "##Train"
   ]
  },
  {
   "cell_type": "markdown",
   "metadata": {},
   "source": [
    "I found some help with parameters here: \n",
    "* https://github.com/JohnLangford/vowpal_wabbit/wiki/Tutorial    \n",
    "* https://github.com/JohnLangford/vowpal_wabbit/wiki/Command-line-arguments\n",
    "\n",
    "--cache_file train.cache    \n",
    "converts train_ALL.vw to a binary file for future faster processing. \n",
    "Next time we go through the model building, we will use the cache file \n",
    "and not the text file.    \n",
    "\n",
    "--passes     \n",
    "is the number of passes    \n",
    "\n",
    "--oaa 10    \n",
    "refers to oaa learning algorithm with 10 classes (1 to 10)    \n",
    "\n",
    "-q ii    \n",
    "creates interaction between variables in the two referred to namespaces \n",
    "which here are the same i.e. 'image' Namespace.   \n",
    "An interaction variable is created from two variables 'A' and 'B' \n",
    "by multiplying the values of 'A' and 'B'.    \n",
    "\n",
    "-f mnist_ALL.model    \n",
    "refers to file where model will be saved.    \n",
    "\n",
    "-b     \n",
    "refers to number of bits in the feature table.   \n",
    "Default number is 18 but as we have increased the number of features much more \n",
    "by introducing interaction features, value of '-b' has been increased to 22.   \n",
    "\n",
    "-l rate   \n",
    "Adjust the learning rate. Defaults to 0.5\n",
    "\n",
    "--power_t p   \n",
    "This specifies the power on the learning rate decay. You can adjust this --power_t p where p is in the range [0,1]. 0 means the learning rate does not decay, which can be helpful when state tracking, while 1 is very aggressive. Defaults to 0.5"
   ]
  },
  {
   "cell_type": "code",
   "execution_count": 3,
   "metadata": {
    "collapsed": false
   },
   "outputs": [],
   "source": [
    "!rm train.vw.cache"
   ]
  },
  {
   "cell_type": "code",
   "execution_count": 4,
   "metadata": {
    "collapsed": false
   },
   "outputs": [
    {
     "name": "stdout",
     "output_type": "stream",
     "text": [
      "rm: cannot remove ‘pca_train.model’: No such file or directory\r\n"
     ]
    }
   ],
   "source": [
    "!rm pca_train.model"
   ]
  },
  {
   "cell_type": "code",
   "execution_count": 5,
   "metadata": {
    "collapsed": false
   },
   "outputs": [
    {
     "name": "stdout",
     "output_type": "stream",
     "text": [
      "creating quadratic features for pairs: ii \n",
      "final_regressor = pca_train.model\n",
      "Num weight bits = 19\n",
      "learning rate = 0.4\n",
      "initial_t = 0\n",
      "power_t = 0.6\n",
      "decay_learning_rate = 1\n",
      "can't open: train.vw.cache, error = No such file or directory\n",
      "creating cache_file = train.vw.cache\n",
      "Reading datafile = data/mnist_train_pca.vw\n",
      "num sources = 1\n",
      "average  since         example        example  current  current  current\n",
      "loss     last          counter         weight    label  predict features\n",
      "1.000000 1.000000            1            1.0        6        1     1540\n",
      "1.000000 1.000000            2            2.0        1        6     1540\n",
      "1.000000 1.000000            4            4.0        2        1     1540\n",
      "0.875000 0.750000            8            8.0        4        6     1540\n",
      "0.812500 0.750000           16           16.0        3        4     1540\n",
      "0.812500 0.812500           32           32.0        1        2     1540\n",
      "0.687500 0.562500           64           64.0        2        2     1540\n",
      "0.468750 0.250000          128          128.0        8        8     1540\n",
      "0.339844 0.210938          256          256.0        1        1     1540\n",
      "0.238281 0.136719          512          512.0        8        8     1540\n",
      "0.195312 0.152344         1024         1024.0        7        7     1540\n",
      "0.140137 0.084961         2048         2048.0       10       10     1540\n",
      "0.098633 0.057129         4096         4096.0        3        3     1540\n",
      "0.074097 0.049561         8192         8192.0        1        1     1540\n",
      "0.054260 0.034424        16384        16384.0        5        5     1540\n",
      "0.042114 0.029968        32768        32768.0        6        6     1540\n",
      "0.033127 0.024139        65536        65536.0        6        6     1540\n",
      "0.016068 0.016068       131072       131072.0       10       10     1540 h\n",
      "0.013699 0.011329       262144       262144.0        5        5     1540 h\n",
      "0.011364 0.009029       524288       524288.0        7        7     1540 h\n",
      "\n",
      "finished run\n",
      "number of examples per pass = 108000\n",
      "passes used = 8\n",
      "weighted example sum = 864000.000000\n",
      "weighted label sum = 0.000000\n",
      "average loss = 0.009000 h\n",
      "total feature number = 1330560000\n"
     ]
    }
   ],
   "source": [
    "!vw -d data/mnist_train_pca.vw --cache_file train.vw.cache -f pca_train.model -b 19 --oaa 10 -q ii --passes 35 --early_terminate 3  -l 0.4 --power_t 0.6 --initial_t 0 --decay_learning_rate  1"
   ]
  },
  {
   "cell_type": "markdown",
   "metadata": {},
   "source": [
    "##Predict "
   ]
  },
  {
   "cell_type": "markdown",
   "metadata": {},
   "source": [
    "-t    \n",
    "is for test file   \n",
    "\n",
    "-i    \n",
    "specifies the model file created earlier   \n",
    "\n",
    "-p   \n",
    "where to store the class predictions [1,10]   "
   ]
  },
  {
   "cell_type": "code",
   "execution_count": 6,
   "metadata": {
    "collapsed": true
   },
   "outputs": [],
   "source": [
    "!rm predict.txt"
   ]
  },
  {
   "cell_type": "code",
   "execution_count": 7,
   "metadata": {
    "collapsed": false
   },
   "outputs": [
    {
     "name": "stdout",
     "output_type": "stream",
     "text": [
      "only testing\n",
      "predictions = predict.txt\n",
      "Num weight bits = 19\n",
      "learning rate = 10\n",
      "initial_t = 1\n",
      "power_t = 0.5\n",
      "using no cache\n",
      "Reading datafile = data/mnist_test_pca.vw\n",
      "num sources = 1\n",
      "average  since         example        example  current  current  current\n",
      "loss     last          counter         weight    label  predict features\n",
      "0.000000 0.000000            1            1.0        8        8     1540\n",
      "0.000000 0.000000            2            2.0        3        3     1540\n",
      "0.000000 0.000000            4            4.0        1        1     1540\n",
      "0.000000 0.000000            8            8.0       10       10     1540\n",
      "0.000000 0.000000           16           16.0        6        6     1540\n",
      "0.000000 0.000000           32           32.0        2        2     1540\n",
      "0.000000 0.000000           64           64.0        4        4     1540\n",
      "0.007812 0.015625          128          128.0        6        6     1540\n",
      "0.011719 0.015625          256          256.0        8        8     1540\n",
      "0.013672 0.015625          512          512.0        5        5     1540\n",
      "0.026367 0.039062         1024         1024.0        5        5     1540\n",
      "0.029297 0.032227         2048         2048.0        7        7     1540\n",
      "0.030029 0.030762         4096         4096.0       10       10     1540\n",
      "0.021118 0.012207         8192         8192.0        7        7     1540\n",
      "0.018921 0.016724        16384        16384.0        1        1     1540\n",
      "\n",
      "finished run\n",
      "number of examples per pass = 20000\n",
      "passes used = 1\n",
      "weighted example sum = 20000.000000\n",
      "weighted label sum = 0.000000\n",
      "average loss = 0.017050\n",
      "total feature number = 30800000\n"
     ]
    }
   ],
   "source": [
    "!vw -t data/mnist_test_pca.vw -i pca_train.model  -p predict.txt"
   ]
  },
  {
   "cell_type": "markdown",
   "metadata": {},
   "source": [
    "##Analyze"
   ]
  },
  {
   "cell_type": "code",
   "execution_count": 8,
   "metadata": {
    "collapsed": false
   },
   "outputs": [],
   "source": [
    "y_true=[]\n",
    "with open(\"data/mnist_test_pca.vw\", 'rb') as f:\n",
    "    for line in f:\n",
    "        m = re.search('^\\d+', line)\n",
    "        if m:\n",
    "            found = m.group()\n",
    "        y_true.append(int(found))\n",
    "\n",
    "\n",
    "y_pred = []\n",
    "with open(\"predict.txt\", 'rb') as f:\n",
    "    for line in f:\n",
    "        m = re.search('^\\d+', line)\n",
    "        if m:\n",
    "            found = m.group()\n",
    "        y_pred.append(int(found))\n",
    "\n",
    "target_names     = [\"1\", \"2\", \"3\", \"4\", \"5\", \"6\", \"7\", \"8\", \"9\", \"10\"] # NOTE: plus one"
   ]
  },
  {
   "cell_type": "code",
   "execution_count": 9,
   "metadata": {
    "collapsed": false
   },
   "outputs": [
    {
     "name": "stdout",
     "output_type": "stream",
     "text": [
      "[[1945    1    4    1    0    0    8    1    0    0]\n",
      " [   4 2252    2    0    2    3    3    1    3    0]\n",
      " [   8    4 2018    3    3    0    2    7   19    0]\n",
      " [   3    0    5 1981    0   15    0    3    8    5]\n",
      " [   1    2    3    1 1940    0    7    1    2    7]\n",
      " [   4    0    0   12    0 1761    4    0    3    0]\n",
      " [  13    5    2    1    5    8 1881    0    1    0]\n",
      " [   2   10   13    3    0    1    0 2014    4    9]\n",
      " [   8    0    4    8    2    5    5    4 1906    6]\n",
      " [   7    2    3    2   18    8    1   12    4 1961]]\n",
      "\n",
      "Model accuracy: 0.98295, model misclass rate: 0.01705\n"
     ]
    },
    {
     "data": {
      "image/png": "[encoded data removed]",
      "text/plain": [
       "<matplotlib.figure.Figure at 0x7f722222f490>"
      ]
     },
     "metadata": {},
     "output_type": "display_data"
    }
   ],
   "source": [
    "def plot_confusion_matrix(cm, \n",
    "                          target_names,\n",
    "                          title='Proportional Confusion matrix: VW on PCA data', \n",
    "                          cmap=plt.cm.Paired):  \n",
    "    \"\"\"\n",
    "    given a confusion matrix (cm), make a nice plot\n",
    "    see the skikit-learn documentation for the original done for the iris dataset\n",
    "    \"\"\"\n",
    "    plt.figure(figsize=(8, 6))\n",
    "    plt.imshow((cm/cm.sum(axis=1)), interpolation='nearest', cmap=cmap)\n",
    "    plt.title(title)\n",
    "    plt.colorbar()\n",
    "    tick_marks = np.arange(len(target_names))\n",
    "    plt.xticks(tick_marks, target_names, rotation=45)\n",
    "    plt.yticks(tick_marks, target_names)\n",
    "    plt.tight_layout()\n",
    "    plt.ylabel('True label')\n",
    "    plt.xlabel('Predicted label')\n",
    "    \n",
    "cm = confusion_matrix(y_true, y_pred)  \n",
    "\n",
    "print(cm)\n",
    "model_accuracy = sum(cm.diagonal())/len(y_pred)\n",
    "model_misclass = 1 - model_accuracy\n",
    "print(\"\\nModel accuracy: {0}, model misclass rate: {1}\".format(model_accuracy, model_misclass))\n",
    "\n",
    "plot_confusion_matrix(cm, target_names)"
   ]
  },
  {
   "cell_type": "code",
   "execution_count": null,
   "metadata": {
    "collapsed": true
   },
   "outputs": [],
   "source": []
  }
 ],
 "metadata": {
  "kernelspec": {
   "display_name": "Python 2",
   "language": "python",
   "name": "python2"
  },
  "language_info": {
   "codemirror_mode": {
    "name": "ipython",
    "version": 2
   },
   "file_extension": ".py",
   "mimetype": "text/x-python",
   "name": "python",
   "nbconvert_exporter": "python",
   "pygments_lexer": "ipython2",
   "version": "2.7.9"
  }
 },
 "nbformat": 4,
 "nbformat_minor": 0
}
