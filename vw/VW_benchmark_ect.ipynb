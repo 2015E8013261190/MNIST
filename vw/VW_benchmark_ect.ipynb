{
 "cells": [
  {
   "cell_type": "markdown",
   "metadata": {},
   "source": [
    "#MNIST classification with Vowpal Wabbit"
   ]
  },
  {
   "cell_type": "code",
   "execution_count": 1,
   "metadata": {
    "collapsed": true
   },
   "outputs": [],
   "source": [
    "from __future__ import division\n",
    "import re\n",
    "import numpy as np\n",
    "from sklearn.metrics import confusion_matrix\n",
    "import matplotlib.pyplot as plt\n",
    "\n",
    "%matplotlib inline"
   ]
  },
  {
   "cell_type": "code",
   "execution_count": 2,
   "metadata": {
    "collapsed": true
   },
   "outputs": [],
   "source": [
    "#%qtconsole"
   ]
  },
  {
   "cell_type": "markdown",
   "metadata": {},
   "source": [
    "##Train"
   ]
  },
  {
   "cell_type": "markdown",
   "metadata": {},
   "source": [
    "I found some help with parameters here: \n",
    "* https://github.com/JohnLangford/vowpal_wabbit/wiki/Tutorial    \n",
    "* https://github.com/JohnLangford/vowpal_wabbit/wiki/Command-line-arguments\n",
    "\n",
    "--cache_file train.cache    \n",
    "converts train_ALL.vw to a binary file for future faster processing. \n",
    "Next time we go through the model building, we will use the cache file \n",
    "and not the text file.    \n",
    "\n",
    "--passes     \n",
    "is the number of passes    \n",
    "\n",
    "--oaa 10    \n",
    "refers to oaa learning algorithm with 10 classes (1 to 10)    \n",
    "\n",
    "-q ii    \n",
    "creates interaction between variables in the two referred to namespaces \n",
    "which here are the same i.e. 'image' Namespace.   \n",
    "An interaction variable is created from two variables 'A' and 'B' \n",
    "by multiplying the values of 'A' and 'B'.    \n",
    "\n",
    "-f mnist_ALL.model    \n",
    "refers to file where model will be saved.    \n",
    "\n",
    "-b     \n",
    "refers to number of bits in the feature table.   \n",
    "Default number is 18 but as we have increased the number of features much more \n",
    "by introducing interaction features, value of '-b' has been increased to 22.   \n",
    "\n",
    "-l rate   \n",
    "Adjust the learning rate. Defaults to 0.5\n",
    "\n",
    "--power_t p   \n",
    "This specifies the power on the learning rate decay. You can adjust this --power_t p where p is in the range [0,1]. 0 means the learning rate does not decay, which can be helpful when state tracking, while 1 is very aggressive. Defaults to 0.5"
   ]
  },
  {
   "cell_type": "code",
   "execution_count": 3,
   "metadata": {
    "collapsed": false
   },
   "outputs": [
    {
     "name": "stdout",
     "output_type": "stream",
     "text": [
      "rm: cannot remove ‘train_ect.vw.cache’: No such file or directory\r\n"
     ]
    }
   ],
   "source": [
    "!rm train_ect.vw.cache"
   ]
  },
  {
   "cell_type": "code",
   "execution_count": 4,
   "metadata": {
    "collapsed": false
   },
   "outputs": [
    {
     "name": "stdout",
     "output_type": "stream",
     "text": [
      "rm: cannot remove ‘mnist_train_ect.model’: No such file or directory\r\n"
     ]
    }
   ],
   "source": [
    "!rm mnist_train_ect.model"
   ]
  },
  {
   "cell_type": "code",
   "execution_count": 5,
   "metadata": {
    "collapsed": false
   },
   "outputs": [
    {
     "name": "stdout",
     "output_type": "stream",
     "text": [
      "creating quadratic features for pairs: ii \n",
      "final_regressor = mnist_train_ect.model\n",
      "Num weight bits = 19\n",
      "learning rate = 0.4\n",
      "initial_t = 0\n",
      "power_t = 0.6\n",
      "decay_learning_rate = 1\n",
      "creating cache_file = train_ect.vw.cache\n",
      "Reading datafile = data/mnist_train.vw\n",
      "num sources = 1\n",
      "average  since         example        example  current  current  current\n",
      "loss     last          counter         weight    label  predict features\n",
      "1.000000 1.000000            1            1.0        6        1    14028\n",
      "1.000000 1.000000            2            2.0        1        6    15753\n",
      "1.000000 1.000000            4            4.0        2        6     4753\n",
      "1.000000 1.000000            8            8.0        4        3    20301\n",
      "0.812500 0.625000           16           16.0        3        2    11476\n",
      "0.843750 0.875000           32           32.0        1       10    17020\n",
      "0.687500 0.531250           64           64.0        2        2     7626\n",
      "0.531250 0.375000          128          128.0        8        9     8646\n",
      "0.476562 0.421875          256          256.0        1        1    27730\n",
      "0.382812 0.289062          512          512.0        8        8     6786\n",
      "0.313477 0.244141         1024         1024.0        7        7    14878\n",
      "0.226074 0.138672         2048         2048.0       10       10     9316\n",
      "0.171875 0.117676         4096         4096.0        3        3     9316\n",
      "0.131836 0.091797         8192         8192.0        1        1    14365\n",
      "0.104431 0.077026        16384        16384.0        5        5    10585\n",
      "0.081207 0.057983        32768        32768.0        6        6    11325\n",
      "0.063736 0.046265        65536        65536.0        6        6    15753\n",
      "0.037561 0.037561       131072       131072.0       10       10    11781 h\n",
      "0.031174 0.024787       262144       262144.0        5        5     6328 h\n",
      "0.026367 0.021561       524288       524288.0        7        7    25425 h\n",
      "\n",
      "finished run\n",
      "number of examples per pass = 108000\n",
      "passes used = 9\n",
      "weighted example sum = 972000.000000\n",
      "weighted label sum = 0.000000\n",
      "average loss = 0.021250 h\n",
      "total feature number = 13723570242\n"
     ]
    }
   ],
   "source": [
    "\n",
    "!vw -d data/mnist_train.vw -b 19  --ect 10  -f mnist_train_ect.model  -q ii  --passes 100 -l 0.4  --early_terminate 3  --cache_file train_ect.vw.cache --power_t 0.6"
   ]
  },
  {
   "cell_type": "markdown",
   "metadata": {},
   "source": [
    "##Predict "
   ]
  },
  {
   "cell_type": "markdown",
   "metadata": {},
   "source": [
    "-t    \n",
    "is for test file   \n",
    "\n",
    "-i    \n",
    "specifies the model file created earlier   \n",
    "\n",
    "-p   \n",
    "where to store the class predictions [1,10]   "
   ]
  },
  {
   "cell_type": "code",
   "execution_count": 6,
   "metadata": {
    "collapsed": false
   },
   "outputs": [
    {
     "name": "stdout",
     "output_type": "stream",
     "text": [
      "rm: cannot remove ‘predict_ect.txt’: No such file or directory\r\n"
     ]
    }
   ],
   "source": [
    "!rm predict_ect.txt"
   ]
  },
  {
   "cell_type": "code",
   "execution_count": 7,
   "metadata": {
    "collapsed": false
   },
   "outputs": [
    {
     "name": "stdout",
     "output_type": "stream",
     "text": [
      "creating quadratic features for pairs: ii \n",
      "only testing\n",
      "predictions = predict_ect.txt\n",
      "Num weight bits = 19\n",
      "learning rate = 10\n",
      "initial_t = 1\n",
      "power_t = 0.5\n",
      "using no cache\n",
      "Reading datafile = data/mnist_test.vw\n",
      "num sources = 1\n",
      "average  since         example        example  current  current  current\n",
      "loss     last          counter         weight    label  predict features\n",
      "0.000000 0.000000            1            1.0        8        8     6903\n",
      "0.000000 0.000000            2            2.0        3        3    13861\n",
      "0.000000 0.000000            4            4.0        1        1    18915\n",
      "0.000000 0.000000            8            8.0       10       10     8515\n",
      "0.000000 0.000000           16           16.0        6        6     9591\n",
      "0.000000 0.000000           32           32.0        2        2     1953\n",
      "0.000000 0.000000           64           64.0        4        4     9591\n",
      "0.007812 0.015625          128          128.0        6        6    12880\n",
      "0.015625 0.023438          256          256.0        8        8     5460\n",
      "0.037109 0.058594          512          512.0        5        5     5050\n",
      "0.044922 0.052734         1024         1024.0        5        5    12246\n",
      "0.055664 0.066406         2048         2048.0        7        6    18721\n",
      "0.054688 0.053711         4096         4096.0       10       10    12403\n",
      "0.042603 0.030518         8192         8192.0        7        7    14878\n",
      "0.038086 0.033569        16384        16384.0        1        1    21528\n",
      "\n",
      "finished run\n",
      "number of examples per pass = 20000\n",
      "passes used = 1\n",
      "weighted example sum = 20000.000000\n",
      "weighted label sum = 0.000000\n",
      "average loss = 0.033600\n",
      "total feature number = 288781223\n"
     ]
    }
   ],
   "source": [
    "!vw -t data/mnist_test.vw -i mnist_train_ect.model  -p predict_ect.txt"
   ]
  },
  {
   "cell_type": "markdown",
   "metadata": {},
   "source": [
    "##Analyze"
   ]
  },
  {
   "cell_type": "code",
   "execution_count": 8,
   "metadata": {
    "collapsed": false
   },
   "outputs": [],
   "source": [
    "y_true=[]\n",
    "with open(\"data/mnist_test.vw\", 'rb') as f:\n",
    "    for line in f:\n",
    "        m = re.search('^\\d+', line)\n",
    "        if m:\n",
    "            found = m.group()\n",
    "        y_true.append(int(found))\n",
    "\n",
    "\n",
    "y_pred = []\n",
    "with open(\"predict_ect.txt\", 'rb') as f:\n",
    "    for line in f:\n",
    "        m = re.search('^\\d+', line)\n",
    "        if m:\n",
    "            found = m.group()\n",
    "        y_pred.append(int(found))\n",
    "\n",
    "target_names     = [\"1\", \"2\", \"3\", \"4\", \"5\", \"6\", \"7\", \"8\", \"9\", \"10\"] # NOTE: plus one"
   ]
  },
  {
   "cell_type": "code",
   "execution_count": 9,
   "metadata": {
    "collapsed": false
   },
   "outputs": [
    {
     "name": "stdout",
     "output_type": "stream",
     "text": [
      "[[1926    2    2    2    1   13    5    2    4    3]\n",
      " [   1 2252    5    2    3    4    2    0    1    0]\n",
      " [  10    8 2002    6    7    2    0    8   21    0]\n",
      " [   0    1    3 1970    2   21    0    8   10    5]\n",
      " [   9    4    7    0 1920    0    4    0    3   17]\n",
      " [   3    0    1   21    0 1739    4    0   14    2]\n",
      " [   9    6    4    3   23   80 1789    0    2    0]\n",
      " [   2   11   25    6   22    5    0 1954    8   23]\n",
      " [  13    4    7   28   18   15    0    4 1858    1]\n",
      " [   7    6    0   16   42   16    0   10    3 1918]]\n",
      "\n",
      "Model accuracy: 0.9664, model misclass rate: 0.0336\n"
     ]
    },
    {
     "data": {
      "image/png": "[encoded data removed]",
      "text/plain": [
       "<matplotlib.figure.Figure at 0x7f3a31e608d0>"
      ]
     },
     "metadata": {},
     "output_type": "display_data"
    }
   ],
   "source": [
    "def plot_confusion_matrix(cm, \n",
    "                          target_names,\n",
    "                          title='Proportional Confusion matrix: VW ect on 784 pixels', \n",
    "                          cmap=plt.cm.Paired):  \n",
    "    \"\"\"\n",
    "    given a confusion matrix (cm), make a nice plot\n",
    "    see the skikit-learn documentation for the original done for the iris dataset\n",
    "    \"\"\"\n",
    "    plt.figure(figsize=(8, 6))\n",
    "    plt.imshow((cm/cm.sum(axis=1)), interpolation='nearest', cmap=cmap)\n",
    "    plt.title(title)\n",
    "    plt.colorbar()\n",
    "    tick_marks = np.arange(len(target_names))\n",
    "    plt.xticks(tick_marks, target_names, rotation=45)\n",
    "    plt.yticks(tick_marks, target_names)\n",
    "    plt.tight_layout()\n",
    "    plt.ylabel('True label')\n",
    "    plt.xlabel('Predicted label')\n",
    "    \n",
    "cm = confusion_matrix(y_true, y_pred)  \n",
    "\n",
    "print(cm)\n",
    "model_accuracy = sum(cm.diagonal())/len(y_pred)\n",
    "model_misclass = 1 - model_accuracy\n",
    "print(\"\\nModel accuracy: {0}, model misclass rate: {1}\".format(model_accuracy, model_misclass))\n",
    "\n",
    "plot_confusion_matrix(cm, target_names)"
   ]
  },
  {
   "cell_type": "code",
   "execution_count": null,
   "metadata": {
    "collapsed": true
   },
   "outputs": [],
   "source": []
  }
 ],
 "metadata": {
  "kernelspec": {
   "display_name": "Python 2",
   "language": "python",
   "name": "python2"
  },
  "language_info": {
   "codemirror_mode": {
    "name": "ipython",
    "version": 2
   },
   "file_extension": ".py",
   "mimetype": "text/x-python",
   "name": "python",
   "nbconvert_exporter": "python",
   "pygments_lexer": "ipython2",
   "version": "2.7.9"
  }
 },
 "nbformat": 4,
 "nbformat_minor": 0
}
