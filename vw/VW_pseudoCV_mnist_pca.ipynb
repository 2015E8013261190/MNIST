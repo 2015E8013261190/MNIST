{
 "cells": [
  {
   "cell_type": "markdown",
   "metadata": {},
   "source": [
    "#Vowpal Wabbit parameter estimation    \n",
    "##MNIST PCA data"
   ]
  },
  {
   "cell_type": "markdown",
   "metadata": {},
   "source": [
    "https://github.com/JohnLangford/vowpal_wabbit/wiki/Command-line-arguments\n",
    "    \n"
   ]
  },
  {
   "cell_type": "code",
   "execution_count": 30,
   "metadata": {
    "collapsed": true
   },
   "outputs": [],
   "source": [
    "import re\n",
    "import csv\n",
    "import subprocess\n",
    "from time import ctime\n",
    "\n",
    "import pandas as pd\n",
    "import numpy as np\n",
    "import scipy\n",
    "from matplotlib import pyplot as plt\n",
    "%matplotlib inline"
   ]
  },
  {
   "cell_type": "code",
   "execution_count": 31,
   "metadata": {
    "collapsed": true
   },
   "outputs": [],
   "source": [
    "#%qtconsole"
   ]
  },
  {
   "cell_type": "code",
   "execution_count": 32,
   "metadata": {
    "collapsed": false
   },
   "outputs": [],
   "source": [
    "!rm cv_train_pca.vw.cache"
   ]
  },
  {
   "cell_type": "code",
   "execution_count": 33,
   "metadata": {
    "collapsed": false
   },
   "outputs": [
    {
     "name": "stdout",
     "output_type": "stream",
     "text": [
      "vw -d data/mnist_train_pca.vw   --oaa 10  -f cv.model  -q ii -b 19 -l 0.4 --power_t 0.6 --decay_learning_rate  1  --passes 35 --early_terminate 3  --cache_file cv_train_pca.vw.cache --initial_t 0 2>&1\n",
      "\n",
      "--initial_t  0, loss: 0.009000\n",
      "Thu Jul 23 09:47:28 2015\n",
      "\n",
      "vw -d data/mnist_train_pca.vw   --oaa 10  -f cv.model  -q ii -b 19 -l 0.4 --power_t 0.6 --decay_learning_rate  1  --passes 35 --early_terminate 3  --cache_file cv_train_pca.vw.cache --initial_t 1 2>&1\n",
      "\n",
      "--initial_t  1, loss: 0.009000\n",
      "Thu Jul 23 09:49:44 2015\n",
      "\n",
      "vw -d data/mnist_train_pca.vw   --oaa 10  -f cv.model  -q ii -b 19 -l 0.4 --power_t 0.6 --decay_learning_rate  1  --passes 35 --early_terminate 3  --cache_file cv_train_pca.vw.cache --initial_t 2 2>&1\n",
      "\n",
      "--initial_t  2, loss: 0.009083\n",
      "Thu Jul 23 09:52:00 2015\n",
      "\n",
      "vw -d data/mnist_train_pca.vw   --oaa 10  -f cv.model  -q ii -b 19 -l 0.4 --power_t 0.6 --decay_learning_rate  1  --passes 35 --early_terminate 3  --cache_file cv_train_pca.vw.cache --initial_t 3 2>&1\n",
      "\n",
      "--initial_t  3, loss: 0.009167\n",
      "Thu Jul 23 09:54:18 2015\n",
      "\n",
      "vw -d data/mnist_train_pca.vw   --oaa 10  -f cv.model  -q ii -b 19 -l 0.4 --power_t 0.6 --decay_learning_rate  1  --passes 35 --early_terminate 3  --cache_file cv_train_pca.vw.cache --initial_t 4 2>&1\n",
      "\n",
      "--initial_t  4, loss: 0.009083\n",
      "Thu Jul 23 09:56:34 2015\n",
      "\n",
      "vw -d data/mnist_train_pca.vw   --oaa 10  -f cv.model  -q ii -b 19 -l 0.4 --power_t 0.6 --decay_learning_rate  1  --passes 35 --early_terminate 3  --cache_file cv_train_pca.vw.cache --initial_t 5 2>&1\n",
      "\n",
      "--initial_t  5, loss: 0.009083\n",
      "Thu Jul 23 09:59:03 2015\n",
      "\n",
      "vw -d data/mnist_train_pca.vw   --oaa 10  -f cv.model  -q ii -b 19 -l 0.4 --power_t 0.6 --decay_learning_rate  1  --passes 35 --early_terminate 3  --cache_file cv_train_pca.vw.cache --initial_t 6 2>&1\n",
      "\n",
      "--initial_t  6, loss: 0.009083\n",
      "Thu Jul 23 10:01:30 2015\n",
      "\n",
      "vw -d data/mnist_train_pca.vw   --oaa 10  -f cv.model  -q ii -b 19 -l 0.4 --power_t 0.6 --decay_learning_rate  1  --passes 35 --early_terminate 3  --cache_file cv_train_pca.vw.cache --initial_t 7 2>&1\n",
      "\n",
      "--initial_t  7, loss: 0.009083\n",
      "Thu Jul 23 10:04:02 2015\n",
      "\n",
      "vw -d data/mnist_train_pca.vw   --oaa 10  -f cv.model  -q ii -b 19 -l 0.4 --power_t 0.6 --decay_learning_rate  1  --passes 35 --early_terminate 3  --cache_file cv_train_pca.vw.cache --initial_t 8 2>&1\n",
      "\n",
      "--initial_t  8, loss: 0.009167\n",
      "Thu Jul 23 10:06:18 2015\n",
      "\n",
      "vw -d data/mnist_train_pca.vw   --oaa 10  -f cv.model  -q ii -b 19 -l 0.4 --power_t 0.6 --decay_learning_rate  1  --passes 35 --early_terminate 3  --cache_file cv_train_pca.vw.cache --initial_t 9 2>&1\n",
      "\n",
      "--initial_t  9, loss: 0.009167\n",
      "Thu Jul 23 10:08:34 2015\n",
      "\n",
      "vw -d data/mnist_train_pca.vw   --oaa 10  -f cv.model  -q ii -b 19 -l 0.4 --power_t 0.6 --decay_learning_rate  1  --passes 35 --early_terminate 3  --cache_file cv_train_pca.vw.cache --initial_t 10 2>&1\n",
      "\n",
      "--initial_t  10, loss: 0.009167\n",
      "Thu Jul 23 10:11:02 2015\n",
      "\n"
     ]
    }
   ],
   "source": [
    "vw_input_file = 'data/mnist_train_pca.vw'\n",
    "\n",
    "path_to_cache = 'cv_train_pca.vw.cache'  # <-- this is the file removed, above\n",
    "\n",
    "output_file   = 'vw_cv_parms_tested.csv'\n",
    " \n",
    "# ===================================================================\n",
    "# REMEMBER: remove the parameter you're testing\n",
    "#           and put it back with its best value when you're done\n",
    "# ===================================================================\n",
    "vw_params = '-d ' + vw_input_file + '   --oaa 10  -f cv.model ' + \\\n",
    "            ' -q ii -b 19 -l 0.4 --power_t 0.6 --decay_learning_rate  1 --initial_t 0 ' + \\\n",
    "            ' --passes 35 --early_terminate 3 '\n",
    "# ===================================================================\n",
    "\n",
    "###\n",
    "\n",
    "def get_loss( output ):\n",
    "\tpattern = r\"average\\s+loss\\s+=\\s+([0-9.e]+)+\"\n",
    "\tm = re.search( pattern, output )\n",
    "\tloss = m.group( 1 )\n",
    "\treturn loss\n",
    "\n",
    "###\n",
    "\n",
    "o_f = open( output_file, 'wb' )\n",
    "writer = csv.writer( o_f )\n",
    "writer.writerow( [ 'bits', 'loss' ] )\n",
    "\n",
    "# =============================================\n",
    "# ========= parameter ranges to test ==========\n",
    "\n",
    "# --------------------------------------------------------\n",
    "# with --early_terminate is there any reason not to simply\n",
    "# set --passes to a very large number?\n",
    "# --------------------------------------------------------\n",
    "\n",
    "#param       = \"-b\"\n",
    "#param_name  = param + \" hash table entry bit size\"\n",
    "#param_range = range(12, 30+1, 1)\n",
    "\n",
    "#param       = \"-l\"\n",
    "#param_name  = param + \" learning rate\"\n",
    "#param_range = np.arange(0.1, 1.1, .1)\n",
    "\n",
    "#param       = \"--power_t\"\n",
    "#param_name  = param\n",
    "#param_range = np.arange(0, 1.1, .1)\n",
    "\n",
    "#param       = '--decay_learning_rate'\n",
    "#param_name  = param\n",
    "#param_range = [0, 0.1, 0.2, 0.3, 0.4, 0.5, 0.6, 0.7, 0.7071068, 0.8, 0.9, 1, 1.1, 1.2, 1.3, 1.4, 1.5]\n",
    "# watch for this\n",
    "# Warning: the learning rate for the last pass is multiplied by: [2.91038e-11] \n",
    "# adjust --decay_learning_rate larger to avoid this.\n",
    "\n",
    "#param       = '--initial_t'\n",
    "#param_name  = param\n",
    "#param_range = [0, 1, 2, 3, 4, 5, 6, 7, 8, 9, 10]\n",
    "\n",
    "# ========= parameter ranges to test ==========\n",
    "# =============================================\n",
    "\n",
    "for b in param_range:\n",
    "\t\n",
    "\tcmd = 'vw {} --cache_file {} {} {} 2>&1'.format( vw_params, path_to_cache, param, b )\t\n",
    "\tprint cmd\n",
    "\t\n",
    "\toutput = subprocess.check_output( '{} | tee /dev/stderr'.format( cmd ), shell = True )\n",
    "\tloss = get_loss( output )\n",
    "\t\n",
    "\tprint \"\\n{}  {}, loss: {}\\n{}\\n\".format( param_name, b, loss, ctime() )\n",
    "\t\n",
    "\twriter.writerow( [ b, loss ] )\n",
    "\to_f.flush()\n"
   ]
  },
  {
   "cell_type": "code",
   "execution_count": 34,
   "metadata": {
    "collapsed": false
   },
   "outputs": [
    {
     "data": {
      "image/png": "[encoded data removed]",
      "text/plain": [
       "<matplotlib.figure.Figure at 0x7f73a3688050>"
      ]
     },
     "metadata": {},
     "output_type": "display_data"
    }
   ],
   "source": [
    "input_file = output_file\n",
    "\n",
    "d = pd.read_csv( input_file )\n",
    "\n",
    "plt.figure(figsize=(10,6))\n",
    "plt.title(\"Vowpal Wabbit loss vs {0}\".format(param_name) )\n",
    "plt.xlabel(\"{0}; best={1}\".format(param_name, d.bits[np.argmin(d.loss)]) )\n",
    "\n",
    "plt.plot( d.bits, d.loss )\n",
    "plt.ylabel(\"Average Log Loss (lowest is best)\")\n",
    "plt.axvline(x=d.bits[np.argmin(d.loss)])\n",
    "\n",
    "plt.show()"
   ]
  },
  {
   "cell_type": "code",
   "execution_count": null,
   "metadata": {
    "collapsed": true
   },
   "outputs": [],
   "source": []
  }
 ],
 "metadata": {
  "kernelspec": {
   "display_name": "Python 2",
   "language": "python",
   "name": "python2"
  },
  "language_info": {
   "codemirror_mode": {
    "name": "ipython",
    "version": 2
   },
   "file_extension": ".py",
   "mimetype": "text/x-python",
   "name": "python",
   "nbconvert_exporter": "python",
   "pygments_lexer": "ipython2",
   "version": "2.7.9"
  }
 },
 "nbformat": 4,
 "nbformat_minor": 0
}
