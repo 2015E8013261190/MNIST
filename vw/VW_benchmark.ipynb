{
 "cells": [
  {
   "cell_type": "markdown",
   "metadata": {},
   "source": [
    "#MNIST classification with Vowpal Wabbit"
   ]
  },
  {
   "cell_type": "code",
   "execution_count": 1,
   "metadata": {
    "collapsed": true
   },
   "outputs": [],
   "source": [
    "from __future__ import division\n",
    "import re\n",
    "import numpy as np\n",
    "from sklearn.metrics import confusion_matrix\n",
    "import matplotlib.pyplot as plt\n",
    "\n",
    "%matplotlib inline"
   ]
  },
  {
   "cell_type": "code",
   "execution_count": 2,
   "metadata": {
    "collapsed": true
   },
   "outputs": [],
   "source": [
    "#%qtconsole"
   ]
  },
  {
   "cell_type": "markdown",
   "metadata": {},
   "source": [
    "##Train"
   ]
  },
  {
   "cell_type": "markdown",
   "metadata": {},
   "source": [
    "I found some help with parameters here: \n",
    "* https://github.com/JohnLangford/vowpal_wabbit/wiki/Tutorial    \n",
    "* https://github.com/JohnLangford/vowpal_wabbit/wiki/Command-line-arguments\n",
    "\n",
    "--cache_file train.cache    \n",
    "converts train_ALL.vw to a binary file for future faster processing. \n",
    "Next time we go through the model building, we will use the cache file \n",
    "and not the text file.    \n",
    "\n",
    "--passes     \n",
    "is the number of passes    \n",
    "\n",
    "--oaa 10    \n",
    "refers to oaa learning algorithm with 10 classes (1 to 10)    \n",
    "\n",
    "-q ii    \n",
    "creates interaction between variables in the two referred to namespaces \n",
    "which here are the same i.e. 'image' Namespace.   \n",
    "An interaction variable is created from two variables 'A' and 'B' \n",
    "by multiplying the values of 'A' and 'B'.    \n",
    "\n",
    "-f mnist_ALL.model    \n",
    "refers to file where model will be saved.    \n",
    "\n",
    "-b     \n",
    "refers to number of bits in the feature table.   \n",
    "Default number is 18 but as we have increased the number of features much more \n",
    "by introducing interaction features, value of '-b' has been increased to 22.   \n",
    "\n",
    "-l rate   \n",
    "Adjust the learning rate. Defaults to 0.5\n",
    "\n",
    "--power_t p   \n",
    "This specifies the power on the learning rate decay. You can adjust this --power_t p where p is in the range [0,1]. 0 means the learning rate does not decay, which can be helpful when state tracking, while 1 is very aggressive. Defaults to 0.5"
   ]
  },
  {
   "cell_type": "code",
   "execution_count": 3,
   "metadata": {
    "collapsed": false
   },
   "outputs": [],
   "source": [
    "!rm train.vw.cache"
   ]
  },
  {
   "cell_type": "code",
   "execution_count": null,
   "metadata": {
    "collapsed": true
   },
   "outputs": [],
   "source": [
    "!rm mnist_train.model"
   ]
  },
  {
   "cell_type": "code",
   "execution_count": 4,
   "metadata": {
    "collapsed": false
   },
   "outputs": [
    {
     "name": "stdout",
     "output_type": "stream",
     "text": [
      "creating quadratic features for pairs: ii \n",
      "final_regressor = mnist_train.model\n",
      "Num weight bits = 19\n",
      "learning rate = 0.4\n",
      "initial_t = 0\n",
      "power_t = 0.6\n",
      "decay_learning_rate = 1\n",
      "can't open: train.vw.cache, error = No such file or directory\n",
      "creating cache_file = train.vw.cache\n",
      "Reading datafile = data/mnist_train.vw\n",
      "num sources = 1\n",
      "average  since         example        example  current  current  current\n",
      "loss     last          counter         weight    label  predict features\n",
      "1.000000 1.000000            1            1.0        6        1    14027\n",
      "1.000000 1.000000            2            2.0        1        6    15751\n",
      "1.000000 1.000000            4            4.0        2        1     4751\n",
      "1.000000 1.000000            8            8.0        4        3    20299\n",
      "0.875000 0.750000           16           16.0        3        4    11475\n",
      "0.875000 0.875000           32           32.0        1       10    17015\n",
      "0.750000 0.625000           64           64.0        2        7     7625\n",
      "0.507812 0.265625          128          128.0        8        8     8646\n",
      "0.390625 0.273438          256          256.0        1        1    27728\n",
      "0.300781 0.210938          512          512.0        8        8     6784\n",
      "0.233398 0.166016         1024         1024.0        7        7    14877\n",
      "0.166992 0.100586         2048         2048.0       10       10     9315\n",
      "0.121582 0.076172         4096         4096.0        3        3     9315\n",
      "0.097412 0.073242         8192         8192.0        1        1    14364\n",
      "0.074646 0.051880        16384        16384.0        5        5    10585\n",
      "0.057190 0.039734        32768        32768.0        6        6    11323\n",
      "0.043976 0.030762        65536        65536.0        6        6    15753\n",
      "0.023278 0.023278       131072       131072.0       10       10    11779 h\n",
      "0.019363 0.015449       262144       262144.0        5        5     6327 h\n",
      "0.015759 0.012154       524288       524288.0        7        7    25425 h\n",
      "0.013853 0.011948      1048576      1048576.0       10       10    11325 h\n",
      "\n",
      "finished run\n",
      "number of examples per pass = 108000\n",
      "passes used = 10\n",
      "weighted example sum = 1080000.000000\n",
      "weighted label sum = 0.000000\n",
      "average loss = 0.011167 h\n",
      "total feature number = 15244068290\n"
     ]
    }
   ],
   "source": [
    "\n",
    "!vw -d data/mnist_train.vw -b 19  --oaa 10  -f mnist_train.model  -q ii  --passes 30 -l 0.4  --early_terminate 3  --cache_file train.vw.cache --power_t 0.6"
   ]
  },
  {
   "cell_type": "markdown",
   "metadata": {},
   "source": [
    "##Predict "
   ]
  },
  {
   "cell_type": "markdown",
   "metadata": {},
   "source": [
    "-t    \n",
    "is for test file   \n",
    "\n",
    "-i    \n",
    "specifies the model file created earlier   \n",
    "\n",
    "-p   \n",
    "where to store the class predictions [1,10]   "
   ]
  },
  {
   "cell_type": "code",
   "execution_count": null,
   "metadata": {
    "collapsed": true
   },
   "outputs": [],
   "source": [
    "!rm predict.txt"
   ]
  },
  {
   "cell_type": "code",
   "execution_count": 5,
   "metadata": {
    "collapsed": false
   },
   "outputs": [
    {
     "name": "stdout",
     "output_type": "stream",
     "text": [
      "only testing\n",
      "predictions = predict.txt\n",
      "Num weight bits = 19\n",
      "learning rate = 10\n",
      "initial_t = 1\n",
      "power_t = 0.5\n",
      "using no cache\n",
      "Reading datafile = data/mnist_test.vw\n",
      "num sources = 1\n",
      "average  since         example        example  current  current  current\n",
      "loss     last          counter         weight    label  predict features\n",
      "0.000000 0.000000            1            1.0        8        8     6902\n",
      "0.000000 0.000000            2            2.0        3        3    13859\n",
      "0.000000 0.000000            4            4.0        1        1    18912\n",
      "0.000000 0.000000            8            8.0       10       10     8513\n",
      "0.000000 0.000000           16           16.0        6        6     9590\n",
      "0.000000 0.000000           32           32.0        2        2     1952\n",
      "0.000000 0.000000           64           64.0        4        4     9590\n",
      "0.000000 0.000000          128          128.0        6        6    12879\n",
      "0.007812 0.015625          256          256.0        8        8     5459\n",
      "0.017578 0.027344          512          512.0        5        5     5049\n",
      "0.024414 0.031250         1024         1024.0        5        5    12156\n",
      "0.027344 0.030273         2048         2048.0        7        6    18720\n",
      "0.028809 0.030273         4096         4096.0       10       10    12400\n",
      "0.022583 0.016357         8192         8192.0        7        7    14874\n",
      "0.020752 0.018921        16384        16384.0        1        1    21528\n",
      "\n",
      "finished run\n",
      "number of examples per pass = 20000\n",
      "passes used = 1\n",
      "weighted example sum = 20000.000000\n",
      "weighted label sum = 0.000000\n",
      "average loss = 0.018500\n",
      "total feature number = 288691300\n"
     ]
    }
   ],
   "source": [
    "!vw -t data/mnist_test.vw -i mnist_train.model  -p predict.txt"
   ]
  },
  {
   "cell_type": "markdown",
   "metadata": {},
   "source": [
    "##Analyze"
   ]
  },
  {
   "cell_type": "code",
   "execution_count": 8,
   "metadata": {
    "collapsed": false
   },
   "outputs": [],
   "source": [
    "y_true=[]\n",
    "with open(\"data/mnist_test.vw\", 'rb') as f:\n",
    "    for line in f:\n",
    "        m = re.search('^\\d+', line)\n",
    "        if m:\n",
    "            found = m.group()\n",
    "        y_true.append(int(found))\n",
    "\n",
    "\n",
    "y_pred = []\n",
    "with open(\"predict.txt\", 'rb') as f:\n",
    "    for line in f:\n",
    "        m = re.search('^\\d+', line)\n",
    "        if m:\n",
    "            found = m.group()\n",
    "        y_pred.append(int(found))\n",
    "\n",
    "target_names     = [\"1\", \"2\", \"3\", \"4\", \"5\", \"6\", \"7\", \"8\", \"9\", \"10\"] # NOTE: plus one"
   ]
  },
  {
   "cell_type": "code",
   "execution_count": 9,
   "metadata": {
    "collapsed": false
   },
   "outputs": [
    {
     "name": "stdout",
     "output_type": "stream",
     "text": [
      "[[1944    0    1    0    2    5    5    2    0    1]\n",
      " [   1 2252    2    2    1    5    2    1    4    0]\n",
      " [   6    1 2032    2    2    1    0    6   14    0]\n",
      " [   3    0    9 1976    0   17    0    4    2    9]\n",
      " [   2    0    7    0 1940    1    5    1    2    6]\n",
      " [   6    0    0    8    0 1766    2    0    2    0]\n",
      " [   8    5    2    2    7   40 1849    0    3    0]\n",
      " [   8    5   19    1    1    0    0 2003    6   13]\n",
      " [  12    0    7    6    2    8    0    1 1910    2]\n",
      " [   6    6    2    4   22    7    0    9    4 1958]]\n",
      "\n",
      "Model accuracy: 0.9815, model misclass rate: 0.0185\n"
     ]
    },
    {
     "data": {
      "image/png": "[encoded data removed]",
      "text/plain": [
       "<matplotlib.figure.Figure at 0x7fecad02fc10>"
      ]
     },
     "metadata": {},
     "output_type": "display_data"
    }
   ],
   "source": [
    "def plot_confusion_matrix(cm, \n",
    "                          target_names,\n",
    "                          title='Proportional Confusion matrix: VW on 784 pixels', \n",
    "                          cmap=plt.cm.Paired):  \n",
    "    \"\"\"\n",
    "    given a confusion matrix (cm), make a nice plot\n",
    "    see the skikit-learn documentation for the original done for the iris dataset\n",
    "    \"\"\"\n",
    "    plt.figure(figsize=(8, 6))\n",
    "    plt.imshow((cm/cm.sum(axis=1)), interpolation='nearest', cmap=cmap)\n",
    "    plt.title(title)\n",
    "    plt.colorbar()\n",
    "    tick_marks = np.arange(len(target_names))\n",
    "    plt.xticks(tick_marks, target_names, rotation=45)\n",
    "    plt.yticks(tick_marks, target_names)\n",
    "    plt.tight_layout()\n",
    "    plt.ylabel('True label')\n",
    "    plt.xlabel('Predicted label')\n",
    "    \n",
    "cm = confusion_matrix(y_true, y_pred)  \n",
    "\n",
    "print(cm)\n",
    "model_accuracy = sum(cm.diagonal())/len(y_pred)\n",
    "model_misclass = 1 - model_accuracy\n",
    "print(\"\\nModel accuracy: {0}, model misclass rate: {1}\".format(model_accuracy, model_misclass))\n",
    "\n",
    "plot_confusion_matrix(cm, target_names)"
   ]
  },
  {
   "cell_type": "code",
   "execution_count": null,
   "metadata": {
    "collapsed": true
   },
   "outputs": [],
   "source": []
  }
 ],
 "metadata": {
  "kernelspec": {
   "display_name": "Python 2",
   "language": "python",
   "name": "python2"
  },
  "language_info": {
   "codemirror_mode": {
    "name": "ipython",
    "version": 2
   },
   "file_extension": ".py",
   "mimetype": "text/x-python",
   "name": "python",
   "nbconvert_exporter": "python",
   "pygments_lexer": "ipython2",
   "version": "2.7.9"
  }
 },
 "nbformat": 4,
 "nbformat_minor": 0
}
